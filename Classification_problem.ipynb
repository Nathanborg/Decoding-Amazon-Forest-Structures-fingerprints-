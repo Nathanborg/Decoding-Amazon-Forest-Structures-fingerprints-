{
  "nbformat": 4,
  "nbformat_minor": 0,
  "metadata": {
    "colab": {
      "provenance": []
    },
    "kernelspec": {
      "name": "python3",
      "display_name": "Python 3"
    },
    "language_info": {
      "name": "python"
    }
  },
  "cells": [
    {
      "cell_type": "code",
      "execution_count": null,
      "metadata": {
        "colab": {
          "base_uri": "https://localhost:8080/"
        },
        "id": "umUM8jRLE_DG",
        "outputId": "f754e86f-af36-4980-84b9-b1bd4f0849c4"
      },
      "outputs": [
        {
          "output_type": "stream",
          "name": "stdout",
          "text": [
            "Mounted at /content/drive\n"
          ]
        }
      ],
      "source": [
        "from google.colab import drive\n",
        "drive.mount('/content/drive')\n"
      ]
    },
    {
      "cell_type": "code",
      "source": [
        "import shutil\n",
        "\n",
        "!unrar x '/content/drive/MyDrive/forest_fingerprint/training.rar'"
      ],
      "metadata": {
        "id": "FuXYGkMmFIKF"
      },
      "execution_count": null,
      "outputs": []
    },
    {
      "cell_type": "code",
      "source": [
        "import shutil\n",
        "from pathlib import Path\n",
        "from fastai.vision.all import *\n",
        "import gc\n",
        "import torch\n",
        "path = Path('/content/training')\n",
        "class_dirs = [path / f\"{prefix}{i}\" for prefix in [\"b\", \"p\",\"c\"] for i in range(1, 7)]\n",
        "def label_func(x):\n",
        "    return x.parts[-2][0]\n",
        "def move_folder_temporarily(src, dest):\n",
        "    shutil.move(src, dest)\n",
        "    return lambda: shutil.move(dest, src)\n",
        "\n",
        "def get_image_files_without_temp(path):\n",
        "    return [img for img in get_image_files(path) if \"temp\" not in str(img)]\n",
        "\n",
        "for i, test_dir in enumerate(class_dirs):\n",
        "    print(f\"Leave-one-out run {i+1}: using {test_dir.name} as test set\")\n",
        "\n",
        "    restore_folder = move_folder_temporarily(test_dir, path / \"temp\")\n",
        "\n",
        "    dls = ImageDataLoaders.from_path_func(path, get_image_files_without_temp(path), label_func, valid_pct=0.25,batch_tfms=[*aug_transforms(), Normalize.from_stats(*imagenet_stats)])\n",
        "\n",
        "    dls.vocab = L(dls.vocab).filter(lambda x: x != 'temp')\n",
        "\n",
        "\n",
        "    from fastai.optimizer import Adam\n",
        "\n",
        "    learn = vision_learner(dls, resnet34, metrics=accuracy)\n",
        "\n",
        "\n",
        "    lr = 0.007\n",
        "    learn.unfreeze()\n",
        "    n_epochs = 15\n",
        "    opt = Adam(learn.model.parameters(), lr=lr)\n",
        "    learn.fit_one_cycle(n_epochs, lr)\n",
        "\n",
        "\n",
        "\n",
        "    restore_folder()\n",
        "\n",
        "    test_files = list(test_dir.glob(\"*.jpeg\"))\n",
        "    test_dl = learn.dls.test_dl(test_files)\n",
        "    preds, _ = learn.get_preds(dl=test_dl)\n",
        "\n",
        "    with open(f\"predictions_{test_dir.name}.txt\", \"w\") as f:\n",
        "        for test_file, pred in zip(test_files, preds):\n",
        "            predicted_class = learn.dls.vocab[np.argmax(pred)]\n",
        "            f.write(f\"{test_file}: {predicted_class}\\n\")\n",
        "\n",
        "    del learn\n",
        "    torch.cuda.empty_cache()\n",
        "    gc.collect()"
      ],
      "metadata": {
        "id": "GFnEhk-RFE0K"
      },
      "execution_count": null,
      "outputs": []
    }
  ]
}